{
 "cells": [
  {
   "cell_type": "markdown",
   "metadata": {},
   "source": [
    "## IAEA NDS\n",
    "\n",
    "The EXFOR library files and tools are available from the IAEA Nuclear Data Section (NDS) [github page](https://github.com/IAEA-NDS/exfor_master)\n",
    "\n",
    "![IAEA NDS github page screenshot](iaea_nds_github.png)\n",
    "\n",
    "\n",
    "There are a lot of tools, so the search bar is useful"
   ]
  },
  {
   "cell_type": "markdown",
   "metadata": {},
   "source": [
    "### EXFOR Master\n",
    "\n",
    "The full EXFOR database, with the files in the EXFOR format, is available in the [exfor_master](https://github.com/IAEA-NDS/exfor_master) repo\n",
    "\n",
    "![exfor_master github repo](exfor_master_github.png)"
   ]
  },
  {
   "cell_type": "markdown",
   "metadata": {},
   "source": [
    "You should clone this repo so you have the library locally on your computer. Wherever you want the directory to go, run the command:\n",
    "\n",
    "(SSH)\n",
    "```bash\n",
    "git clone git@github.com:IAEA-NDS/exfor_master.git\n",
    "```\n",
    "\n",
    "or \n",
    "\n",
    "\n",
    "(HTTPS)\n",
    "```bash\n",
    "git clone https://github.com/IAEA-NDS/exfor_master.git\n",
    "```\n",
    "\n",
    "This is a public repo and won't require a github account or password to pull, so either command is fine. For repos that require a password, I would suggest setting up SSH keys and using that method rather than HTTPS. "
   ]
  },
  {
   "cell_type": "markdown",
   "metadata": {},
   "source": [
    "In my case, the repo is located in my libraries directory:"
   ]
  },
  {
   "cell_type": "code",
   "execution_count": null,
   "metadata": {},
   "outputs": [],
   "source": [
    "!tree -L 1 /home/amanda/libraries/exfor_master/"
   ]
  },
  {
   "cell_type": "markdown",
   "metadata": {},
   "source": [
    "The EXFOR files are inside the `exforall` directory, and sorted into directories by the first three digits of the accession number (the entry identification number)"
   ]
  },
  {
   "cell_type": "code",
   "execution_count": null,
   "metadata": {},
   "outputs": [],
   "source": [
    "!tree -L 1 /home/amanda/libraries/exfor_master/exforall/"
   ]
  },
  {
   "cell_type": "markdown",
   "metadata": {},
   "source": [
    "Within each directory, the EXFOR entries are stored as plain text files"
   ]
  },
  {
   "cell_type": "code",
   "execution_count": null,
   "metadata": {},
   "outputs": [],
   "source": [
    "!tree /home/amanda/libraries/exfor_master/exforall/146/"
   ]
  },
  {
   "cell_type": "code",
   "execution_count": null,
   "metadata": {},
   "outputs": [],
   "source": [
    "!cat /home/amanda/libraries/exfor_master/exforall/146/14686.x4"
   ]
  },
  {
   "cell_type": "markdown",
   "metadata": {},
   "source": [
    "## EXFOR JSON\n",
    "\n",
    "The EXFOR files are also available in JSON form in the [exfor_json repo](https://github.com/IAEA-NDS/exfor_json)\n",
    "\n",
    "![exfor_json github repo](exfor_json_github.png)"
   ]
  },
  {
   "cell_type": "markdown",
   "metadata": {},
   "source": [
    "These files are very useful for poking around EXFOR, but the JSON format is slightly different from the tool that we'll (probably) be using."
   ]
  },
  {
   "cell_type": "markdown",
   "metadata": {},
   "source": []
  }
 ],
 "metadata": {
  "kernelspec": {
   "display_name": "exfor",
   "language": "python",
   "name": "python3"
  },
  "language_info": {
   "codemirror_mode": {
    "name": "ipython",
    "version": 3
   },
   "file_extension": ".py",
   "mimetype": "text/x-python",
   "name": "python",
   "nbconvert_exporter": "python",
   "pygments_lexer": "ipython3",
   "version": "3.10.14"
  }
 },
 "nbformat": 4,
 "nbformat_minor": 2
}
