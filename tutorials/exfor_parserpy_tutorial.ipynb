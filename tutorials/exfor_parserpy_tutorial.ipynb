{
 "cells": [
  {
   "cell_type": "code",
   "execution_count": 21,
   "metadata": {},
   "outputs": [],
   "source": [
    "from pathlib import Path"
   ]
  },
  {
   "cell_type": "markdown",
   "metadata": {},
   "source": [
    "## exfor-parserpy\n",
    "\n",
    "There are a few different EXFOR parsers and tools, but I think the easiest one to use is [exfor-parserpy](https://github.com/IAEA-NDS/exfor-parserpy), a python package that can parse EXFOR files into a JSON dictionary and write the JSON dictionary back to the EXFOR format."
   ]
  },
  {
   "cell_type": "markdown",
   "metadata": {},
   "source": [
    "## installing the package\n",
    "\n",
    "You should clone the repo to your local machine:\n",
    "\n",
    "(SSH)\n",
    "```bash\n",
    "git clone git@github.com:IAEA-NDS/exfor-parserpy.git\n",
    "```\n",
    "\n",
    "(HTTPS)\n",
    "```bash\n",
    "git clone https://github.com/IAEA-NDS/exfor-parserpy.git\n",
    "```\n",
    "\n",
    "Then move inside the directory and install with pip:\n",
    "\n",
    "\n",
    "```bash\n",
    "pip install -e .\n",
    "```\n",
    "\n",
    "The `.` means install the package in the current directory, and the `-e` will cause it to install in \"editable mode\" - python will pull from these source files instead of creating a static installation of the package somewhere else. With editable mode, you can make changes to these source files and use them elsewhere on your computer. Without editable mode, you will need to re-install the package after making changes to the source files."
   ]
  },
  {
   "cell_type": "markdown",
   "metadata": {},
   "source": [
    "You can also install the package through pip, but the source code will be hidden away in the python source directory\n",
    "\n",
    "```bash\n",
    "pip install git+https://github.com/iaea-nds/exfor-parserpy.git\n",
    "```"
   ]
  },
  {
   "cell_type": "markdown",
   "metadata": {},
   "source": [
    "### using the package"
   ]
  },
  {
   "cell_type": "markdown",
   "metadata": {},
   "source": [
    "You should already have the EXFOR Master repo cloned on your computer. (If not, see [that tutorial](get_exfor_library.ipynb).) The `exfor_parserpy` package will read those files.\n",
    "\n",
    "For file manipulation in Python, I prefer to the use the `pathlib` library, but you can also put file names and paths together as strings and use the `os` and `sys` libraries."
   ]
  },
  {
   "cell_type": "code",
   "execution_count": 43,
   "metadata": {},
   "outputs": [],
   "source": [
    "# ** put your own path here **\n",
    "exfor_master_path = Path(\"/home/amanda/libraries/exfor_master/exforall\")\n",
    "\n",
    "# grab the exfor entry for the paper we're looking at\n",
    "exfor_entry_path = exfor_master_path / \"146\" / \"14686.x4\""
   ]
  },
  {
   "cell_type": "markdown",
   "metadata": {},
   "source": [
    "the package will parse the EXFOR entry with the `read_exfor()` method"
   ]
  },
  {
   "cell_type": "code",
   "execution_count": 23,
   "metadata": {},
   "outputs": [],
   "source": [
    "from exfor_parserpy import read_exfor"
   ]
  },
  {
   "cell_type": "code",
   "execution_count": 28,
   "metadata": {},
   "outputs": [],
   "source": [
    "parsed_file = read_exfor(exfor_entry_path)"
   ]
  },
  {
   "cell_type": "markdown",
   "metadata": {},
   "source": [
    "It is possible to have more than one entry in a file, so the top level of the dictionary is the entry numbers. "
   ]
  },
  {
   "cell_type": "code",
   "execution_count": 29,
   "metadata": {},
   "outputs": [
    {
     "data": {
      "text/plain": [
       "dict_keys(['14686'])"
      ]
     },
     "execution_count": 29,
     "metadata": {},
     "output_type": "execute_result"
    }
   ],
   "source": [
    "parsed_file.keys()"
   ]
  },
  {
   "cell_type": "markdown",
   "metadata": {},
   "source": [
    "In this case there is only one entry in the file, so the top level is unnecessary "
   ]
  },
  {
   "cell_type": "code",
   "execution_count": 30,
   "metadata": {},
   "outputs": [
    {
     "data": {
      "text/plain": [
       "dict_keys(['14686001', '14686002'])"
      ]
     },
     "execution_count": 30,
     "metadata": {},
     "output_type": "execute_result"
    }
   ],
   "source": [
    "entry = parsed_file['14686']\n",
    "entry.keys()"
   ]
  },
  {
   "cell_type": "markdown",
   "metadata": {},
   "source": [
    "The next level is subentries. Subentry 001 always has just metadata about the experiment, it won't have data."
   ]
  },
  {
   "cell_type": "code",
   "execution_count": 32,
   "metadata": {},
   "outputs": [
    {
     "data": {
      "text/plain": [
       "dict_keys(['__entryid', '__subentid', 'BIB'])"
      ]
     },
     "execution_count": 32,
     "metadata": {},
     "output_type": "execute_result"
    }
   ],
   "source": [
    "sub1 = entry['14686001'] \n",
    "sub1.keys()"
   ]
  },
  {
   "cell_type": "markdown",
   "metadata": {},
   "source": [
    "The `exfor-parserpy` dictionary has two keys that aren't in the EXFOR file - `__entryid` and `__subentid`"
   ]
  },
  {
   "cell_type": "code",
   "execution_count": 36,
   "metadata": {},
   "outputs": [
    {
     "data": {
      "text/plain": [
       "('14686', '14686001')"
      ]
     },
     "execution_count": 36,
     "metadata": {},
     "output_type": "execute_result"
    }
   ],
   "source": [
    "sub1['__entryid'], sub1['__subentid']"
   ]
  },
  {
   "cell_type": "markdown",
   "metadata": {},
   "source": [
    "Otherwise, the keys are the sections in the EXFOR file, which can be `BIB`, `COMMON`, and `DATA`. \n",
    "\n",
    "Subentry 001 always has `BIB` (bibliographic information about the experiment), never has `DATA`, and sometimes has `COMMON` (non-bibliographic data that is shared between the sub-entries).  \n",
    "\n",
    "In this case there is only `BIB`"
   ]
  },
  {
   "cell_type": "code",
   "execution_count": 37,
   "metadata": {},
   "outputs": [
    {
     "data": {
      "text/plain": [
       "{'TITLE': 'Validation of unresolved neutron resonance parameters\\nusing a thick-sample transmission measurement',\n",
       " 'AUTHOR': '(J.M.Brown,R.C.Block,A.Youmans,H.Choun,A.Ney,E.Blain,\\nD.P.Barry,M.J.Rapp,Y.Danon)',\n",
       " 'INSTITUTE': '(1USARPI)\\n(1USAUSA) Naval Nuclear Laboratory, Schenectady,\\n          New York',\n",
       " 'REFERENCE': '(J,NSE,194,221,2020)',\n",
       " 'FACILITY': '(LINAC,1USARPI) The the experiment was performed at the\\n50 MeV electron RPI Linac with a neutron production\\ntarget',\n",
       " 'HISTORY': '(20210525C) Compiled by S.H.'}"
      ]
     },
     "execution_count": 37,
     "metadata": {},
     "output_type": "execute_result"
    }
   ],
   "source": [
    "sub1['BIB']"
   ]
  },
  {
   "cell_type": "markdown",
   "metadata": {},
   "source": [
    "This is just the text from the EXFOR file put directly into a python dictionary"
   ]
  },
  {
   "cell_type": "code",
   "execution_count": 44,
   "metadata": {},
   "outputs": [
    {
     "data": {
      "text/plain": [
       "['ENTRY            14686   20210212   20220301   20220228       1488',\n",
       " 'SUBENT        14686001   20210212   20220301   20220228       1488',\n",
       " 'BIB                  6         12',\n",
       " 'TITLE      Validation of unresolved neutron resonance parameters',\n",
       " '           using a thick-sample transmission measurement',\n",
       " 'AUTHOR     (J.M.Brown,R.C.Block,A.Youmans,H.Choun,A.Ney,E.Blain,',\n",
       " '           D.P.Barry,M.J.Rapp,Y.Danon)',\n",
       " 'INSTITUTE  (1USARPI)',\n",
       " '           (1USAUSA) Naval Nuclear Laboratory, Schenectady,',\n",
       " '                     New York',\n",
       " 'REFERENCE  (J,NSE,194,221,2020)',\n",
       " 'FACILITY   (LINAC,1USARPI) The the experiment was performed at the',\n",
       " '           50 MeV electron RPI Linac with a neutron production',\n",
       " '           target',\n",
       " 'HISTORY    (20210525C) Compiled by S.H.']"
      ]
     },
     "execution_count": 44,
     "metadata": {},
     "output_type": "execute_result"
    }
   ],
   "source": [
    "file_text = exfor_entry_path.read_text().split(\"\\n\")\n",
    "file_text[:15]"
   ]
  }
 ],
 "metadata": {
  "kernelspec": {
   "display_name": "exfor",
   "language": "python",
   "name": "python3"
  },
  "language_info": {
   "codemirror_mode": {
    "name": "ipython",
    "version": 3
   },
   "file_extension": ".py",
   "mimetype": "text/x-python",
   "name": "python",
   "nbconvert_exporter": "python",
   "pygments_lexer": "ipython3",
   "version": "3.10.14"
  }
 },
 "nbformat": 4,
 "nbformat_minor": 2
}
