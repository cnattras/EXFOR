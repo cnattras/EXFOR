{
 "cells": [
  {
   "cell_type": "code",
   "execution_count": 9,
   "metadata": {},
   "outputs": [],
   "source": [
    "from pathlib import Path"
   ]
  },
  {
   "cell_type": "markdown",
   "metadata": {},
   "source": [
    "## exfor-parserpy\n",
    "\n",
    "There are a few different EXFOR parsers and tools, but I think the easiest one to use is [exfor-parserpy](https://github.com/IAEA-NDS/exfor-parserpy), a python package that can parse EXFOR files into a JSON dictionary and write the JSON dictionary back to the EXFOR format."
   ]
  },
  {
   "cell_type": "markdown",
   "metadata": {},
   "source": [
    "## installing the package\n",
    "\n",
    "You should clone the repo to your local machine:\n",
    "\n",
    "(HTTPS)\n",
    "```bash\n",
    "git clone https://github.com/IAEA-NDS/exfor-parserpy.git\n",
    "```\n",
    "\n",
    "Then move inside the directory and install with pip:\n",
    "\n",
    "\n",
    "```bash\n",
    "pip install -e .\n",
    "```\n",
    "\n",
    "The `.` means install the package in the current directory, and the `-e` will cause it to install in \"editable mode\" - python will pull from these source files instead of creating a static installation of the package somewhere else. With editable mode, you can make changes to these source files and use them elsewhere on your computer. Without editable mode, you will need to re-install the package after making changes to the source files."
   ]
  },
  {
   "cell_type": "markdown",
   "metadata": {},
   "source": [
    "You can also install the package through pip, but the source code will be hidden away in the python source directory\n",
    "\n",
    "```bash\n",
    "pip install git+https://github.com/iaea-nds/exfor-parserpy.git\n",
    "```"
   ]
  },
  {
   "cell_type": "markdown",
   "metadata": {},
   "source": [
    "### using the package"
   ]
  },
  {
   "cell_type": "markdown",
   "metadata": {},
   "source": [
    "You should already have the EXFOR Master repo cloned on your computer. (If not, see [that tutorial](get_exfor_library.ipynb).) The `exfor_parserpy` package will read those files.\n",
    "\n",
    "For file manipulation in Python, I prefer to the use the `pathlib` library, but you can also put file names and paths together as strings and use the `os` and `sys` libraries."
   ]
  },
  {
   "cell_type": "code",
   "execution_count": 10,
   "metadata": {},
   "outputs": [],
   "source": [
    "# ** put your own path here **\n",
    "exfor_master_path = Path(\"/home/amanda/libraries/exfor_master/exforall\")\n",
    "\n",
    "# grab the exfor entry for the paper we're looking at\n",
    "exfor_entry_path = exfor_master_path / \"146\" / \"14686.x4\""
   ]
  },
  {
   "cell_type": "markdown",
   "metadata": {},
   "source": [
    "the package will parse the EXFOR entry with the `read_exfor()` method"
   ]
  },
  {
   "cell_type": "code",
   "execution_count": 11,
   "metadata": {},
   "outputs": [],
   "source": [
    "from exfor_parserpy import read_exfor"
   ]
  },
  {
   "cell_type": "code",
   "execution_count": 12,
   "metadata": {},
   "outputs": [],
   "source": [
    "parsed_file = read_exfor(exfor_entry_path)"
   ]
  },
  {
   "cell_type": "code",
   "execution_count": 13,
   "metadata": {},
   "outputs": [
    {
     "data": {
      "text/plain": [
       "{'14686': {'14686001': {'__entryid': '14686',\n",
       "   '__subentid': '14686001',\n",
       "   'BIB': {'TITLE': 'Validation of unresolved neutron resonance parameters\\nusing a thick-sample transmission measurement',\n",
       "    'AUTHOR': '(J.M.Brown,R.C.Block,A.Youmans,H.Choun,A.Ney,E.Blain,\\nD.P.Barry,M.J.Rapp,Y.Danon)',\n",
       "    'INSTITUTE': '(1USARPI)\\n(1USAUSA) Naval Nuclear Laboratory, Schenectady,\\n          New York',\n",
       "    'REFERENCE': '(J,NSE,194,221,2020)',\n",
       "    'FACILITY': '(LINAC,1USARPI) The the experiment was performed at the\\n50 MeV electron RPI Linac with a neutron production\\ntarget',\n",
       "    'HISTORY': '(20210525C) Compiled by S.H.'}},\n",
       "  '14686002': {'__entryid': '14686',\n",
       "   '__subentid': '14686002',\n",
       "   'BIB': {'REACTION': '(73-TA-181(N,TOT),,TRN,,AV)',\n",
       "    'SAMPLE': ' Natural sample\\n(73-TA-181,NAT=0.9995)\\n       Physical type:                Metallic cuboid\\n Chemical composition          Element (Tantalum)\\n Sample mass                     2030 +- 0.1 g\\n Surface dimension             100.25 x 100.30 mm**2\\n Thickness(nominal)            12.106 +- 0.021 mm\\n Total sample thickness 12.106 +- 0.021 mm was chosen\\n to amplify the effect of resonance self-shielding',\n",
       "    'INC-SOURCE': '(PHOTO) Pulsed electron Linac\\n        Average electron beam energy        50 MeV\\n        Average electron beam current       10 mu-A\\n        Linac repetition rate              400 Hz\\n        Electron beam pulse width            9 ns\\n        Neutron production target    Ta cooled by H2O\\n        Moderator material        polyethylene cylinder\\n        Moderator thickness               2.54 cm\\n        Moderator temperature              295 K',\n",
       "    'METHOD': '(TRN,TOF) Time-of-flight\\n          Flight path                  35.18 +- 0.04 m\\n          Measurement type               Transmission\\n          Neutron beam diameter           47.625 mm',\n",
       "    'ERR-ANALYS': ' No error included for flux normalization\\n(DATA-ERR) Total uncertainty includes all systematic\\nand statistical uncertainties from covariance matrix.',\n",
       "    'STATUS': '(TABLE) Data presented in fig.8 of the reference\\n and the covariance matrix received from author J.M.B.',\n",
       "    'DETECTOR': '(SCIN) Li glass doped with 6Li with diameter of 111.25\\nmm and thickness of 12.7 mm. The scintillator was\\nviewed by two 12.7 cm diameter photomultiplier tubes.',\n",
       "    'COVARIANCE': ' (325,COV)  Ex(eV)  Ey(ev)  Cov(x,y)\\n    221.39      221.39   7.6171969e-05\\n    415.63      221.39   8.7030756e-05\\n    415.63      415.63   1.0077097e-04\\n   1047.76      221.39   7.9503818e-05\\n   1047.76      415.63   9.1986543e-05\\n   1047.76     1047.76   8.6716906e-05\\n   2205.10      221.39   8.1704169e-05\\n   2205.10      415.63   9.5152453e-05\\n   2205.10     1047.76   9.2232307e-05\\n   2205.10     2205.10   1.0845976e-04\\n   2437.13      221.39   8.0061473e-05\\n   2437.13      415.63   9.3377025e-05\\n   2437.13     1047.76   9.1151944e-05\\n   2437.13     2205.10   1.0241586e-04\\n   2437.13     2437.13   1.0798551e-04\\n   2707.81      221.39   8.1220756e-05\\n   2707.81      415.63   9.4762577e-05\\n   2707.81     1047.76   9.2659050e-05\\n   2707.81     2205.10   1.0432777e-04\\n   2707.81     2437.13   1.0425926e-04\\n   2707.81     2707.81   1.1175278e-04\\n   3026.21      221.39   7.6844996e-05\\n   3026.21      415.63   8.9754315e-05\\n   3026.21     1047.76   8.8213480e-05\\n   3026.21     2205.10   9.9956166e-05\\n   3026.21     2437.13   1.0001993e-04\\n   3026.21     2707.81   1.0197287e-04\\n   3026.21     3026.21   1.0284273e-04\\n   3404.27      221.39   8.2171467e-05\\n   3404.27      415.63   9.6014960e-05\\n   3404.27     1047.76   9.4548356e-05\\n   3404.27     2205.10   1.0739032e-04\\n   3404.27     2437.13   1.0751073e-04\\n   3404.27     2707.81   1.0962305e-04\\n   3404.27     3026.21   1.0533078e-04\\n   3404.27     3404.27   1.1855672e-04\\n   3857.86      221.39   8.3669901e-05\\n   3857.86      415.63   9.7874140e-05\\n   3857.86     1047.76   9.6881871e-05\\n   3857.86     2205.10   1.1074311e-04\\n   3857.86     2437.13   1.1100937e-04\\n   3857.86     2707.81   1.1322507e-04\\n   3857.86     3026.21   1.0889033e-04\\n   3857.86     3404.27   1.1715611e-04\\n   3857.86     3857.86   1.2667634e-04\\n   4408.54      221.39   8.0220439e-05\\n   4408.54      415.63   9.4381209e-05\\n   4408.54     1047.76   9.5941011e-05\\n   4408.54     2205.10   1.1315246e-04\\n   4408.54     2437.13   1.1412440e-04\\n   4408.54     2707.81   1.1656977e-04\\n   4408.54     3026.21   1.1259026e-04\\n   4408.54     3404.27   1.2133024e-04\\n   4408.54     3857.86   1.2611405e-04\\n   4408.54     4408.54   1.4003595e-04\\n   5086.13      221.39   9.0612490e-05\\n   5086.13      415.63   1.0690307e-04\\n   5086.13     1047.76   1.1003033e-04\\n   5086.13     2205.10   1.3160995e-04\\n   5086.13     2437.13   1.3309853e-04\\n   5086.13     2707.81   1.3603717e-04\\n   5086.13     3026.21   1.3163800e-04\\n   5086.13     3404.27   1.4195810e-04\\n   5086.13     3857.86   1.4782442e-04\\n   5086.13     4408.54   1.5807148e-04\\n   5086.13     5086.13   1.9580994e-04\\n   5835.19      221.39   8.8986281e-05\\n   5835.19      415.63   1.0485461e-04\\n   5835.19     1047.76   1.0732712e-04\\n   5835.19     2205.10   1.2759387e-04\\n   5835.19     2437.13   1.2888780e-04\\n   5835.19     2707.81   1.3169985e-04\\n   5835.19     3026.21   1.2734092e-04\\n   5835.19     3404.27   1.3728570e-04\\n   5835.19     3857.86   1.4285114e-04\\n   5835.19     4408.54   1.5221744e-04\\n   5835.19     5086.13   1.8027371e-04\\n   5835.19     5835.19   1.8255530e-04\\n   6644.04      221.39   8.6277968e-05\\n   6644.04      415.63   1.0127391e-04\\n   6644.04     1047.76   1.0187080e-04\\n   6644.04     2205.10   1.1871679e-04\\n   6644.04     2437.13   1.1946012e-04\\n   6644.04     2707.81   1.2195860e-04\\n   6644.04     3026.21   1.1760908e-04\\n   6644.04     3404.27   1.2666991e-04\\n   6644.04     3857.86   1.3146550e-04\\n   6644.04     4408.54   1.3842092e-04\\n   6644.04     5086.13   1.6311851e-04\\n   6644.04     5835.19   1.5729849e-04\\n   6644.04     6644.04   1.5049741e-04\\n   7633.51      221.39   9.0829001e-05\\n   7633.51      415.63   1.0659349e-04\\n   7633.51     1047.76   1.0711882e-04\\n   7633.51     2205.10   1.2470055e-04\\n   7633.51     2437.13   1.2545581e-04\\n   7633.51     2707.81   1.2807525e-04\\n   7633.51     3026.21   1.2349085e-04\\n   7633.51     3404.27   1.3300070e-04\\n   7633.51     3857.86   1.3801953e-04\\n   7633.51     4408.54   1.4522971e-04\\n   7633.51     5086.13   1.7110380e-04\\n   7633.51     5835.19   1.6502389e-04\\n   7633.51     6644.04   1.5080668e-04\\n   7633.51     7633.51   1.6538932e-04\\n   8861.68      221.39   9.1686994e-05\\n   8861.68      415.63   1.0761507e-04\\n   8861.68     1047.76   1.0821626e-04\\n   8861.68     2205.10   1.2608445e-04\\n   8861.68     2437.13   1.2686987e-04\\n   8861.68     2707.81   1.2952586e-04\\n   8861.68     3026.21   1.2490596e-04\\n   8861.68     3404.27   1.3453343e-04\\n   8861.68     3857.86   1.3962927e-04\\n   8861.68     4408.54   1.4700545e-04\\n   8861.68     5086.13   1.7324213e-04\\n   8861.68     5835.19   1.6707772e-04\\n   8861.68     6644.04   1.5263905e-04\\n   8861.68     7633.51   1.6021732e-04\\n   8861.68     8861.68   1.6916099e-04\\n  10411.98      221.39   9.1190267e-05\\n  10411.98      415.63   1.0702480e-04\\n  10411.98     1047.76   1.0759328e-04\\n  10411.98     2205.10   1.2532960e-04\\n  10411.98     2437.13   1.2610565e-04\\n  10411.98     2707.81   1.2874652e-04\\n  10411.98     3026.21   1.2415307e-04\\n  10411.98     3404.27   1.3372394e-04\\n  10411.98     3857.86   1.3878876e-04\\n  10411.98     4408.54   1.4610604e-04\\n  10411.98     5086.13   1.7218000e-04\\n  10411.98     5835.19   1.6606597e-04\\n  10411.98     6644.04   1.5173290e-04\\n  10411.98     7633.51   1.5927427e-04\\n  10411.98     8861.68   1.6123313e-04\\n  10411.98    10411.98   1.6693979e-04\\n  12407.77      221.39   9.3051690e-05\\n  12407.77      415.63   1.0917371e-04\\n  12407.77     1047.76   1.0959223e-04\\n  12407.77     2205.10   1.2745040e-04\\n  12407.77     2437.13   1.2819967e-04\\n  12407.77     2707.81   1.3087721e-04\\n  12407.77     3026.21   1.2618207e-04\\n  12407.77     3404.27   1.3590192e-04\\n  12407.77     3857.86   1.4102307e-04\\n  12407.77     4408.54   1.4831482e-04\\n  12407.77     5086.13   1.7471937e-04\\n  12407.77     5835.19   1.6855472e-04\\n  12407.77     6644.04   1.5410687e-04\\n  12407.77     7633.51   1.6178047e-04\\n  12407.77     8861.68   1.6377613e-04\\n  12407.77    10411.98   1.6284448e-04\\n  12407.77    12407.77   1.7201773e-04\\n  15037.63      221.39   9.8181966e-05\\n  15037.63      415.63   1.1511510e-04\\n  15037.63     1047.76   1.1519966e-04\\n  15037.63     2205.10   1.3349815e-04\\n  15037.63     2437.13   1.3419042e-04\\n  15037.63     2707.81   1.3697374e-04\\n  15037.63     3026.21   1.3199775e-04\\n  15037.63     3404.27   1.4214482e-04\\n  15037.63     3857.86   1.4743634e-04\\n  15037.63     4408.54   1.5472343e-04\\n  15037.63     5086.13   1.8211329e-04\\n  15037.63     5835.19   1.7576727e-04\\n  15037.63     6644.04   1.6092353e-04\\n  15037.63     7633.51   1.6895975e-04\\n  15037.63     8861.68   1.7104531e-04\\n  15037.63    10411.98   1.7008715e-04\\n  15037.63    12407.77   1.7283946e-04\\n  15037.63    15037.63   1.8747197e-04\\n  18601.65      221.39   1.0407693e-04\\n  18601.65      415.63   1.2197316e-04\\n  18601.65     1047.76   1.2181863e-04\\n  18601.65     2205.10   1.4085136e-04\\n  18601.65     2437.13   1.4152004e-04\\n  18601.65     2707.81   1.4444407e-04\\n  18601.65     3026.21   1.3915604e-04\\n  18601.65     3404.27   1.4984228e-04\\n  18601.65     3857.86   1.5537963e-04\\n  18601.65     4408.54   1.6283622e-04\\n  18601.65     5086.13   1.9156584e-04\\n  18601.65     5835.19   1.8494953e-04\\n  18601.65     6644.04   1.6948328e-04\\n  18601.65     7633.51   1.7796904e-04\\n  18601.65     8861.68   1.8017360e-04\\n  18601.65    10411.98   1.7918163e-04\\n  18601.65    12407.77   1.8211268e-04\\n  18601.65    15037.63   1.9036764e-04\\n  18601.65    18601.65   2.0802633e-04\\n  23600.94      221.39   1.0669735e-04\\n  23600.94      415.63   1.2496371e-04\\n  23600.94     1047.76   1.2443930e-04\\n  23600.94     2205.10   1.4339899e-04\\n  23600.94     2437.13   1.4398556e-04\\n  23600.94     2707.81   1.4694182e-04\\n  23600.94     3026.21   1.4150022e-04\\n  23600.94     3404.27   1.5234642e-04\\n  23600.94     3857.86   1.5791169e-04\\n  23600.94     4408.54   1.6514816e-04\\n  23600.94     5086.13   1.9412842e-04\\n  23600.94     5835.19   1.8751035e-04\\n  23600.94     6644.04   1.7206220e-04\\n  23600.94     7633.51   1.8070437e-04\\n  23600.94     8861.68   1.8294915e-04\\n  23600.94    10411.98   1.8196292e-04\\n  23600.94    12407.77   1.8498031e-04\\n  23600.94    15037.63   1.9343497e-04\\n  23600.94    18601.65   2.0397976e-04\\n  23600.94    23600.94   2.1476788e-04\\n  30923.97      221.39   1.1770990e-04\\n  30923.97      415.63   1.3881949e-04\\n  30923.97     1047.76   1.4270084e-04\\n  30923.97     2205.10   1.7067000e-04\\n  30923.97     2437.13   1.7261364e-04\\n  30923.97     2707.81   1.7646993e-04\\n  30923.97     3026.21   1.7080085e-04\\n  30923.97     3404.27   1.8426088e-04\\n  30923.97     3857.86   1.9195184e-04\\n  30923.97     4408.54   2.0534819e-04\\n  30923.97     5086.13   2.4374189e-04\\n  30923.97     5835.19   2.3453933e-04\\n  30923.97     6644.04   2.1232278e-04\\n  30923.97     7633.51   2.2288180e-04\\n  30923.97     8861.68   2.2585551e-04\\n  30923.97    10411.98   2.2467712e-04\\n  30923.97    12407.77   2.2822701e-04\\n  30923.97    15037.63   2.3815814e-04\\n  30923.97    18601.65   2.5086585e-04\\n  30923.97    23600.94   2.5460810e-04\\n  30923.97    30923.97   3.3369532e-04\\n  42270.36      221.39   1.3195356e-04\\n  42270.36      415.63   1.5715446e-04\\n  42270.36     1047.76   1.6867554e-04\\n  42270.36     2205.10   2.1140343e-04\\n  42270.36     2437.13   2.1567717e-04\\n  42270.36     2707.81   2.2096643e-04\\n  42270.36     3026.21   2.1515897e-04\\n  42270.36     3404.27   2.3266767e-04\\n  42270.36     3857.86   2.4380451e-04\\n  42270.36     4408.54   2.6757546e-04\\n  42270.36     5086.13   3.2101067e-04\\n  42270.36     5835.19   3.0765014e-04\\n  42270.36     6644.04   2.7440462e-04\\n  42270.36     7633.51   2.8792384e-04\\n  42270.36     8861.68   2.9209114e-04\\n  42270.36    10411.98   2.9065680e-04\\n  42270.36    12407.77   2.9503252e-04\\n  42270.36    15037.63   3.0718991e-04\\n  42270.36    18601.65   3.2323531e-04\\n  42270.36    23600.94   3.2742809e-04\\n  42270.36    30923.97   4.2587251e-04\\n  42270.36    42270.36   6.0550278e-04\\n  61234.07      221.39   1.2409417e-04\\n  61234.07      415.63   1.4511704e-04\\n  61234.07     1047.76   1.4351128e-04\\n  61234.07     2205.10   1.6410985e-04\\n  61234.07     2437.13   1.6453617e-04\\n  61234.07     2707.81   1.6787598e-04\\n  61234.07     3026.21   1.6150256e-04\\n  61234.07     3404.27   1.7384788e-04\\n  61234.07     3857.86   1.8004728e-04\\n  61234.07     4408.54   1.8741853e-04\\n  61234.07     5086.13   2.1994767e-04\\n  61234.07     5835.19   2.1271348e-04\\n  61234.07     6644.04   1.9582087e-04\\n  61234.07     7633.51   2.0577037e-04\\n  61234.07     8861.68   2.0838786e-04\\n  61234.07    10411.98   2.0736718e-04\\n  61234.07    12407.77   2.1096976e-04\\n  61234.07    15037.63   2.2086393e-04\\n  61234.07    18601.65   2.3315186e-04\\n  61234.07    23600.94   2.3737695e-04\\n  61234.07    30923.97   2.9054407e-04\\n  61234.07    42270.36   3.7272327e-04\\n  61234.07    61234.07   2.8242025e-04\\n  96543.81      221.39   1.4416153e-04\\n  96543.81      415.63   1.6966920e-04\\n  96543.81     1047.76   1.7288705e-04\\n  96543.81     2205.10   2.0496475e-04\\n  96543.81     2437.13   2.0696734e-04\\n  96543.81     2707.81   2.1155625e-04\\n  96543.81     3026.21   2.0455843e-04\\n  96543.81     3404.27   2.2066236e-04\\n  96543.81     3857.86   2.2969813e-04\\n  96543.81     4408.54   2.4457485e-04\\n  96543.81     5086.13   2.8992044e-04\\n  96543.81     5835.19   2.7938214e-04\\n  96543.81     6644.04   2.5378651e-04\\n  96543.81     7633.51   2.6662922e-04\\n  96543.81     8861.68   2.7034235e-04\\n  96543.81    10411.98   2.6914793e-04\\n  96543.81    12407.77   2.7371360e-04\\n  96543.81    15037.63   2.8607503e-04\\n  96543.81    18601.65   3.0181585e-04\\n  96543.81    23600.94   3.0688263e-04\\n  96543.81    30923.97   3.8658149e-04\\n  96543.81    42270.36   5.1242293e-04\\n  96543.81    61234.07   3.5280286e-04\\n  96543.81    96543.81   4.8936729e-04\\n 174249.90      221.39   1.2886798e-04\\n 174249.90      415.63   1.4903790e-04\\n 174249.90     1047.76   1.3964444e-04\\n 174249.90     2205.10   1.4885917e-04\\n 174249.90     2437.13   1.4706686e-04\\n 174249.90     2707.81   1.4951622e-04\\n 174249.90     3026.21   1.4232802e-04\\n 174249.90     3404.27   1.5258187e-04\\n 174249.90     3857.86   1.5635710e-04\\n 174249.90     4408.54   1.5468824e-04\\n 174249.90     5086.13   1.7743246e-04\\n 174249.90     5835.19   1.7322606e-04\\n 174249.90     6644.04   1.6461866e-04\\n 174249.90     7633.51   1.7321943e-04\\n 174249.90     8861.68   1.7511587e-04\\n 174249.90    10411.98   1.7424770e-04\\n 174249.90    12407.77   1.7765427e-04\\n 174249.90    15037.63   1.8695067e-04\\n 174249.90    18601.65   1.9794094e-04\\n 174249.90    23600.94   2.0247767e-04\\n 174249.90    30923.97   2.3303942e-04\\n 174249.90    42270.36   2.7722731e-04\\n 174249.90    61234.07   2.3495753e-04\\n 174249.90    96543.81   2.8544276e-04\\n 174249.90   174249.90   2.3138101e-04'},\n",
       "   'COMMON': {'UNIT': {'THICKNESS': 'ATOMS/B', 'TEMP': 'K'},\n",
       "    'DATA': {'THICKNESS': 0.001139, 'TEMP': 297.0}},\n",
       "   'DATA': {'UNIT': {'EN-MIN': 'EV',\n",
       "     'EN-MAX': 'EV',\n",
       "     'DATA': 'NO-DIM',\n",
       "     'DATA-ERR': 'NO-DIM'},\n",
       "    'DATA': {'EN-MIN': [171.825,\n",
       "      295.929,\n",
       "      625.829,\n",
       "      2101.08,\n",
       "      2316.49,\n",
       "      2566.8,\n",
       "      2859.99,\n",
       "      3206.45,\n",
       "      3619.89,\n",
       "      4118.77,\n",
       "      4728.37,\n",
       "      5484.04,\n",
       "      6218.71,\n",
       "      7111.53,\n",
       "      8211.4,\n",
       "      9587.66,\n",
       "      11341.3,\n",
       "      13624.0,\n",
       "      16672.3,\n",
       "      20871.1,\n",
       "      26881.4,\n",
       "      35917.8,\n",
       "      50413.4,\n",
       "      75847.7,\n",
       "      126802.0],\n",
       "     'EN-MAX': [295.929,\n",
       "      625.829,\n",
       "      2101.08,\n",
       "      2316.49,\n",
       "      2566.8,\n",
       "      2859.99,\n",
       "      3206.45,\n",
       "      3619.89,\n",
       "      4118.77,\n",
       "      4728.37,\n",
       "      5484.04,\n",
       "      6218.71,\n",
       "      7111.53,\n",
       "      8211.4,\n",
       "      9587.66,\n",
       "      11341.3,\n",
       "      13624.6,\n",
       "      16672.4,\n",
       "      20871.1,\n",
       "      26881.4,\n",
       "      35917.8,\n",
       "      50413.4,\n",
       "      75847.7,\n",
       "      126802.0,\n",
       "      253681.0],\n",
       "     'DATA': [0.355627,\n",
       "      0.410585,\n",
       "      0.373985,\n",
       "      0.37988,\n",
       "      0.370917,\n",
       "      0.375834,\n",
       "      0.354472,\n",
       "      0.378313,\n",
       "      0.383676,\n",
       "      0.361678,\n",
       "      0.404155,\n",
       "      0.397119,\n",
       "      0.388466,\n",
       "      0.407943,\n",
       "      0.410146,\n",
       "      0.406325,\n",
       "      0.413091,\n",
       "      0.434528,\n",
       "      0.458367,\n",
       "      0.467627,\n",
       "      0.490248,\n",
       "      0.502413,\n",
       "      0.528875,\n",
       "      0.566204,\n",
       "      0.586579],\n",
       "     'DATA-ERR': [0.00872766,\n",
       "      0.0100385,\n",
       "      0.00931219,\n",
       "      0.0104144,\n",
       "      0.0103916,\n",
       "      0.0105713,\n",
       "      0.0101411,\n",
       "      0.0108884,\n",
       "      0.0112551,\n",
       "      0.0118337,\n",
       "      0.0139932,\n",
       "      0.0135113,\n",
       "      0.0122677,\n",
       "      0.0128604,\n",
       "      0.0130062,\n",
       "      0.0129205,\n",
       "      0.0131156,\n",
       "      0.013692,\n",
       "      0.0144231,\n",
       "      0.014655,\n",
       "      0.0182673,\n",
       "      0.024607,\n",
       "      0.0168054,\n",
       "      0.0221217,\n",
       "      0.0152112]}}}}}"
      ]
     },
     "execution_count": 13,
     "metadata": {},
     "output_type": "execute_result"
    }
   ],
   "source": [
    "parsed_file"
   ]
  },
  {
   "cell_type": "markdown",
   "metadata": {},
   "source": [
    "It is possible to have more than one entry in a file, so the top level of the dictionary is the entry numbers. "
   ]
  },
  {
   "cell_type": "code",
   "execution_count": 14,
   "metadata": {},
   "outputs": [
    {
     "data": {
      "text/plain": [
       "dict_keys(['14686'])"
      ]
     },
     "execution_count": 14,
     "metadata": {},
     "output_type": "execute_result"
    }
   ],
   "source": [
    "parsed_file.keys()"
   ]
  },
  {
   "cell_type": "markdown",
   "metadata": {},
   "source": [
    "In this case there is only one entry in the file, so the top level is unnecessary "
   ]
  },
  {
   "cell_type": "code",
   "execution_count": 15,
   "metadata": {},
   "outputs": [
    {
     "data": {
      "text/plain": [
       "dict_keys(['14686001', '14686002'])"
      ]
     },
     "execution_count": 15,
     "metadata": {},
     "output_type": "execute_result"
    }
   ],
   "source": [
    "entry = parsed_file['14686']\n",
    "entry.keys()"
   ]
  },
  {
   "cell_type": "markdown",
   "metadata": {},
   "source": [
    "The next level is subentries. Subentry 001 always has just metadata about the experiment, it won't have data."
   ]
  },
  {
   "cell_type": "code",
   "execution_count": 16,
   "metadata": {},
   "outputs": [
    {
     "data": {
      "text/plain": [
       "dict_keys(['__entryid', '__subentid', 'BIB'])"
      ]
     },
     "execution_count": 16,
     "metadata": {},
     "output_type": "execute_result"
    }
   ],
   "source": [
    "sub1 = entry['14686001'] \n",
    "sub1.keys()"
   ]
  },
  {
   "cell_type": "markdown",
   "metadata": {},
   "source": [
    "The `exfor-parserpy` dictionary has two keys that aren't in the EXFOR file - `__entryid` and `__subentid`"
   ]
  },
  {
   "cell_type": "code",
   "execution_count": 17,
   "metadata": {},
   "outputs": [
    {
     "data": {
      "text/plain": [
       "('14686', '14686001')"
      ]
     },
     "execution_count": 17,
     "metadata": {},
     "output_type": "execute_result"
    }
   ],
   "source": [
    "sub1['__entryid'], sub1['__subentid']"
   ]
  },
  {
   "cell_type": "markdown",
   "metadata": {},
   "source": [
    "Otherwise, the keys are the sections in the EXFOR file, which can be `BIB`, `COMMON`, and `DATA`. \n",
    "\n",
    "Subentry 001 always has `BIB` (bibliographic information about the experiment), never has `DATA`, and sometimes has `COMMON` (non-bibliographic data that is shared between the sub-entries).  \n",
    "\n",
    "In this case there is only `BIB`"
   ]
  },
  {
   "cell_type": "code",
   "execution_count": 18,
   "metadata": {},
   "outputs": [
    {
     "data": {
      "text/plain": [
       "{'TITLE': 'Validation of unresolved neutron resonance parameters\\nusing a thick-sample transmission measurement',\n",
       " 'AUTHOR': '(J.M.Brown,R.C.Block,A.Youmans,H.Choun,A.Ney,E.Blain,\\nD.P.Barry,M.J.Rapp,Y.Danon)',\n",
       " 'INSTITUTE': '(1USARPI)\\n(1USAUSA) Naval Nuclear Laboratory, Schenectady,\\n          New York',\n",
       " 'REFERENCE': '(J,NSE,194,221,2020)',\n",
       " 'FACILITY': '(LINAC,1USARPI) The the experiment was performed at the\\n50 MeV electron RPI Linac with a neutron production\\ntarget',\n",
       " 'HISTORY': '(20210525C) Compiled by S.H.'}"
      ]
     },
     "execution_count": 18,
     "metadata": {},
     "output_type": "execute_result"
    }
   ],
   "source": [
    "sub1['BIB']"
   ]
  },
  {
   "cell_type": "markdown",
   "metadata": {},
   "source": [
    "This is just the text from the EXFOR file put directly into a python dictionary"
   ]
  },
  {
   "cell_type": "code",
   "execution_count": 19,
   "metadata": {},
   "outputs": [
    {
     "data": {
      "text/plain": [
       "['ENTRY            14686   20210212   20220301   20220228       1488',\n",
       " 'SUBENT        14686001   20210212   20220301   20220228       1488',\n",
       " 'BIB                  6         12',\n",
       " 'TITLE      Validation of unresolved neutron resonance parameters',\n",
       " '           using a thick-sample transmission measurement',\n",
       " 'AUTHOR     (J.M.Brown,R.C.Block,A.Youmans,H.Choun,A.Ney,E.Blain,',\n",
       " '           D.P.Barry,M.J.Rapp,Y.Danon)',\n",
       " 'INSTITUTE  (1USARPI)',\n",
       " '           (1USAUSA) Naval Nuclear Laboratory, Schenectady,',\n",
       " '                     New York',\n",
       " 'REFERENCE  (J,NSE,194,221,2020)',\n",
       " 'FACILITY   (LINAC,1USARPI) The the experiment was performed at the',\n",
       " '           50 MeV electron RPI Linac with a neutron production',\n",
       " '           target',\n",
       " 'HISTORY    (20210525C) Compiled by S.H.']"
      ]
     },
     "execution_count": 19,
     "metadata": {},
     "output_type": "execute_result"
    }
   ],
   "source": [
    "file_text = exfor_entry_path.read_text().split(\"\\n\")\n",
    "file_text[:15]"
   ]
  }
 ],
 "metadata": {
  "kernelspec": {
   "display_name": "exfor",
   "language": "python",
   "name": "python3"
  },
  "language_info": {
   "codemirror_mode": {
    "name": "ipython",
    "version": 3
   },
   "file_extension": ".py",
   "mimetype": "text/x-python",
   "name": "python",
   "nbconvert_exporter": "python",
   "pygments_lexer": "ipython3",
   "version": "3.10.14"
  }
 },
 "nbformat": 4,
 "nbformat_minor": 2
}
